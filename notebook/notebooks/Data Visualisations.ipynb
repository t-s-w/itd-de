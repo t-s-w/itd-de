{
 "cells": [
  {
   "cell_type": "code",
   "execution_count": 1,
   "id": "a8d141da",
   "metadata": {},
   "outputs": [
    {
     "ename": "ModuleNotFoundError",
     "evalue": "No module named 'psycopg2'",
     "output_type": "error",
     "traceback": [
      "\u001b[0;31m---------------------------------------------------------------------------\u001b[0m",
      "\u001b[0;31mModuleNotFoundError\u001b[0m                       Traceback (most recent call last)",
      "Cell \u001b[0;32mIn[1], line 1\u001b[0m\n\u001b[0;32m----> 1\u001b[0m \u001b[38;5;28;01mimport\u001b[39;00m \u001b[38;5;21;01mpsycopg2\u001b[39;00m\n\u001b[1;32m      2\u001b[0m \u001b[38;5;28;01mfrom\u001b[39;00m \u001b[38;5;21;01mdotenv\u001b[39;00m \u001b[38;5;28;01mimport\u001b[39;00m load_dotenv\n\u001b[1;32m      3\u001b[0m \u001b[38;5;28;01mimport\u001b[39;00m \u001b[38;5;21;01mos\u001b[39;00m\n",
      "\u001b[0;31mModuleNotFoundError\u001b[0m: No module named 'psycopg2'"
     ]
    }
   ],
   "source": [
    "import psycopg2\n",
    "from dotenv import load_dotenv\n",
    "import os\n",
    "import pandas as pd\n",
    "import warnings\n",
    "import seaborn"
   ]
  },
  {
   "cell_type": "code",
   "execution_count": null,
   "id": "0c5ff948",
   "metadata": {},
   "outputs": [],
   "source": [
    "repo = os.getenv(\"REPO\",\"apache/airflow\")\n",
    "dbname = os.getenv(\"PG_DB\", \"app\")\n",
    "user = os.getenv(\"PG_USER\", \"postgres\")\n",
    "password = os.getenv(\"PG_PW\", \"example\")\n",
    "dbhost = os.environ.get(\"PG_HOST\",\"localhost\")"
   ]
  },
  {
   "cell_type": "code",
   "execution_count": null,
   "id": "03cac90f",
   "metadata": {},
   "outputs": [],
   "source": [
    "def query_to_dataframe(sqlquery): \n",
    "    with psycopg2.connect(dbname=dbname, user=user, password=password, host=dbhost) as conn:\n",
    "        with warnings.catch_warnings():\n",
    "            warnings.simplefilter(\"ignore\")\n",
    "            data = pd.read_sql(sqlquery,conn)\n",
    "    return data"
   ]
  },
  {
   "attachments": {},
   "cell_type": "markdown",
   "id": "b4678aa3",
   "metadata": {},
   "source": [
    "## Top 5 committers in the last 6 months"
   ]
  },
  {
   "cell_type": "code",
   "execution_count": null,
   "id": "8f173ac0",
   "metadata": {},
   "outputs": [],
   "source": [
    "top5query = \"select distinct author, count(id) from app.ft_commits where datetime > (CURRENT_DATE - interval '6 month') group by author order by count desc limit 5\"\n",
    "\n",
    "query_to_dataframe(top5query)"
   ]
  },
  {
   "attachments": {},
   "cell_type": "markdown",
   "id": "390855e0",
   "metadata": {},
   "source": [
    "## Top 5 longest commit streaks"
   ]
  },
  {
   "cell_type": "code",
   "execution_count": null,
   "id": "ae44034c",
   "metadata": {},
   "outputs": [],
   "source": [
    "streakquery = \"\"\"select \n",
    "author, \n",
    "min(commitdate) streak_start, \n",
    "max(commitdate) streak_end, \n",
    "count(commitdate) streak_length \n",
    "from (\n",
    "    select \n",
    "    author, \n",
    "    commitdate, \n",
    "    commitdate::date - rownum::int as category\n",
    "    from (\n",
    "        select distinct \n",
    "            author, \n",
    "            date(datetime) as commitdate, \n",
    "            dense_rank() over (partition by author order by date(datetime)) as rownum\n",
    "            from app.ft_commits\n",
    "            where datetime > (current_date) - interval '6 month'\n",
    "            order by author, commitdate\n",
    "        ) a\n",
    "    )  b\n",
    "group by b.author, b.category \n",
    "order by streak_length desc \n",
    "limit 5\"\"\"\n",
    "\n",
    "query_to_dataframe(streakquery)"
   ]
  },
  {
   "attachments": {},
   "cell_type": "markdown",
   "id": "72a23373",
   "metadata": {},
   "source": [
    "## Heatmap of commits by day of week and time of day"
   ]
  },
  {
   "cell_type": "code",
   "execution_count": null,
   "id": "76eee6fe",
   "metadata": {},
   "outputs": [],
   "source": [
    "sql = \"select datetime from app.ft_commits where datetime > (current_date - interval '6 month')\"\n",
    "data = query_to_dataframe(sql)\n",
    "data[\"Day of Week\"] = data[\"datetime\"].dt.day_name()\n",
    "\n",
    "data['Day of Week'] = data['Day of Week'].astype('category')\n",
    "\n",
    "data[\"Time of Day\"] = data[\"datetime\"].dt.hour.map(lambda x: \"00-03\" if x < 3 \n",
    "                                                   else \"03-06\" if x < 6 \n",
    "                                                   else \"06-09\" if x < 9\n",
    "                                                  else \"09-12\" if x < 12\n",
    "                                                  else \"12-15\" if x < 15\n",
    "                                                  else \"15-18\" if x < 18\n",
    "                                                  else \"18-21\" if x < 21\n",
    "                                                  else \"21-00\")\n",
    "pivoted = data.groupby([\"Day of Week\",\"Time of Day\"],observed=False).count().reset_index().pivot(index=\"Day of Week\", columns=\"Time of Day\", values=\"datetime\")\n",
    "\n",
    "# Currently the days of week are being sorted alphabetically, reorder them\n",
    "dayorder = [\"Monday\",\"Tuesday\",\"Wednesday\",\"Thursday\",\"Friday\",\"Saturday\",\"Sunday\"]\n",
    "pivoted.index = pivoted.index.reorder_categories(dayorder, ordered=True)\n",
    "pivoted.sort_index(axis =\"index\",inplace=True)\n",
    "\n",
    "seaborn.heatmap(pivoted, cmap=\"crest\")"
   ]
  },
  {
   "cell_type": "code",
   "execution_count": null,
   "id": "7725a6ee",
   "metadata": {},
   "outputs": [],
   "source": []
  }
 ],
 "metadata": {
  "kernelspec": {
   "display_name": "Python 3 (ipykernel)",
   "language": "python",
   "name": "python3"
  },
  "language_info": {
   "codemirror_mode": {
    "name": "ipython",
    "version": 3
   },
   "file_extension": ".py",
   "mimetype": "text/x-python",
   "name": "python",
   "nbconvert_exporter": "python",
   "pygments_lexer": "ipython3",
   "version": "3.11.5"
  }
 },
 "nbformat": 4,
 "nbformat_minor": 5
}
