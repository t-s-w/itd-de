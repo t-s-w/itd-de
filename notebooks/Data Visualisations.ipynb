{
 "cells": [
  {
   "cell_type": "code",
   "execution_count": 31,
   "id": "a8d141da",
   "metadata": {},
   "outputs": [],
   "source": [
    "import psycopg2\n",
    "from dotenv import load_dotenv\n",
    "import os\n",
    "import pandas as pd\n",
    "import warnings\n",
    "import datetime\n",
    "import seaborn"
   ]
  },
  {
   "cell_type": "code",
   "execution_count": 7,
   "id": "0c5ff948",
   "metadata": {},
   "outputs": [],
   "source": [
    "repo = os.getenv(\"REPO\",\"apache/airflow\")\n",
    "dbname = os.getenv(\"PG_DB\", \"app\")\n",
    "user = os.getenv(\"PG_USER\", \"postgres\")\n",
    "password = os.getenv(\"PG_PW\", \"example\")\n",
    "dbhost = os.environ.get(\"PG_HOST\",\"localhost\")"
   ]
  },
  {
   "cell_type": "code",
   "execution_count": 15,
   "id": "03cac90f",
   "metadata": {},
   "outputs": [],
   "source": [
    "def query_to_dataframe(sqlsquery): \n",
    "    with psycopg2.connect(dbname=dbname, user=user, password=password, host=dbhost) as conn:\n",
    "        with warnings.catch_warnings():\n",
    "            warnings.simplefilter(\"ignore\")\n",
    "            data = pd.read_sql(sql,conn)\n",
    "    return data"
   ]
  },
  {
   "cell_type": "markdown",
   "id": "b4678aa3",
   "metadata": {},
   "source": [
    "## Top 5 committers in the last 6 months"
   ]
  },
  {
   "cell_type": "code",
   "execution_count": 20,
   "id": "8f173ac0",
   "metadata": {},
   "outputs": [
    {
     "data": {
      "text/html": [
       "<div>\n",
       "<style scoped>\n",
       "    .dataframe tbody tr th:only-of-type {\n",
       "        vertical-align: middle;\n",
       "    }\n",
       "\n",
       "    .dataframe tbody tr th {\n",
       "        vertical-align: top;\n",
       "    }\n",
       "\n",
       "    .dataframe thead th {\n",
       "        text-align: right;\n",
       "    }\n",
       "</style>\n",
       "<table border=\"1\" class=\"dataframe\">\n",
       "  <thead>\n",
       "    <tr style=\"text-align: right;\">\n",
       "      <th></th>\n",
       "      <th>author</th>\n",
       "      <th>streak_start</th>\n",
       "      <th>streak_end</th>\n",
       "      <th>streak_length</th>\n",
       "    </tr>\n",
       "  </thead>\n",
       "  <tbody>\n",
       "    <tr>\n",
       "      <th>0</th>\n",
       "      <td>Jarek Potiuk</td>\n",
       "      <td>2023-07-26</td>\n",
       "      <td>2023-08-16</td>\n",
       "      <td>22</td>\n",
       "    </tr>\n",
       "    <tr>\n",
       "      <th>1</th>\n",
       "      <td>Jarek Potiuk</td>\n",
       "      <td>2023-08-21</td>\n",
       "      <td>2023-09-02</td>\n",
       "      <td>13</td>\n",
       "    </tr>\n",
       "    <tr>\n",
       "      <th>2</th>\n",
       "      <td>Andrey Anshin</td>\n",
       "      <td>2023-08-20</td>\n",
       "      <td>2023-09-01</td>\n",
       "      <td>13</td>\n",
       "    </tr>\n",
       "    <tr>\n",
       "      <th>3</th>\n",
       "      <td>Jarek Potiuk</td>\n",
       "      <td>2023-06-22</td>\n",
       "      <td>2023-07-02</td>\n",
       "      <td>11</td>\n",
       "    </tr>\n",
       "    <tr>\n",
       "      <th>4</th>\n",
       "      <td>Jarek Potiuk</td>\n",
       "      <td>2023-05-15</td>\n",
       "      <td>2023-05-24</td>\n",
       "      <td>10</td>\n",
       "    </tr>\n",
       "  </tbody>\n",
       "</table>\n",
       "</div>"
      ],
      "text/plain": [
       "          author streak_start  streak_end  streak_length\n",
       "0   Jarek Potiuk   2023-07-26  2023-08-16             22\n",
       "1   Jarek Potiuk   2023-08-21  2023-09-02             13\n",
       "2  Andrey Anshin   2023-08-20  2023-09-01             13\n",
       "3   Jarek Potiuk   2023-06-22  2023-07-02             11\n",
       "4   Jarek Potiuk   2023-05-15  2023-05-24             10"
      ]
     },
     "execution_count": 20,
     "metadata": {},
     "output_type": "execute_result"
    }
   ],
   "source": [
    "top5query = \"select distinct author, count(id) from app.ft_commits where datetime > (CURRENT_DATE - interval '6 month') group by author order by count desc limit 5\"\n",
    "\n",
    "query_to_dataframe(top5query)"
   ]
  },
  {
   "cell_type": "markdown",
   "id": "390855e0",
   "metadata": {},
   "source": [
    "## Top 5 longest commit streaks"
   ]
  },
  {
   "cell_type": "code",
   "execution_count": 21,
   "id": "ae44034c",
   "metadata": {},
   "outputs": [
    {
     "data": {
      "text/html": [
       "<div>\n",
       "<style scoped>\n",
       "    .dataframe tbody tr th:only-of-type {\n",
       "        vertical-align: middle;\n",
       "    }\n",
       "\n",
       "    .dataframe tbody tr th {\n",
       "        vertical-align: top;\n",
       "    }\n",
       "\n",
       "    .dataframe thead th {\n",
       "        text-align: right;\n",
       "    }\n",
       "</style>\n",
       "<table border=\"1\" class=\"dataframe\">\n",
       "  <thead>\n",
       "    <tr style=\"text-align: right;\">\n",
       "      <th></th>\n",
       "      <th>author</th>\n",
       "      <th>streak_start</th>\n",
       "      <th>streak_end</th>\n",
       "      <th>streak_length</th>\n",
       "    </tr>\n",
       "  </thead>\n",
       "  <tbody>\n",
       "    <tr>\n",
       "      <th>0</th>\n",
       "      <td>Jarek Potiuk</td>\n",
       "      <td>2023-07-26</td>\n",
       "      <td>2023-08-16</td>\n",
       "      <td>22</td>\n",
       "    </tr>\n",
       "    <tr>\n",
       "      <th>1</th>\n",
       "      <td>Jarek Potiuk</td>\n",
       "      <td>2023-08-21</td>\n",
       "      <td>2023-09-02</td>\n",
       "      <td>13</td>\n",
       "    </tr>\n",
       "    <tr>\n",
       "      <th>2</th>\n",
       "      <td>Andrey Anshin</td>\n",
       "      <td>2023-08-20</td>\n",
       "      <td>2023-09-01</td>\n",
       "      <td>13</td>\n",
       "    </tr>\n",
       "    <tr>\n",
       "      <th>3</th>\n",
       "      <td>Jarek Potiuk</td>\n",
       "      <td>2023-06-22</td>\n",
       "      <td>2023-07-02</td>\n",
       "      <td>11</td>\n",
       "    </tr>\n",
       "    <tr>\n",
       "      <th>4</th>\n",
       "      <td>Jarek Potiuk</td>\n",
       "      <td>2023-05-15</td>\n",
       "      <td>2023-05-24</td>\n",
       "      <td>10</td>\n",
       "    </tr>\n",
       "  </tbody>\n",
       "</table>\n",
       "</div>"
      ],
      "text/plain": [
       "          author streak_start  streak_end  streak_length\n",
       "0   Jarek Potiuk   2023-07-26  2023-08-16             22\n",
       "1   Jarek Potiuk   2023-08-21  2023-09-02             13\n",
       "2  Andrey Anshin   2023-08-20  2023-09-01             13\n",
       "3   Jarek Potiuk   2023-06-22  2023-07-02             11\n",
       "4   Jarek Potiuk   2023-05-15  2023-05-24             10"
      ]
     },
     "execution_count": 21,
     "metadata": {},
     "output_type": "execute_result"
    }
   ],
   "source": [
    "streakquery = \"\"\"select \n",
    "author, \n",
    "min(commitdate) streak_start, \n",
    "max(commitdate) streak_end, \n",
    "count(commitdate) streak_length \n",
    "from (\n",
    "    select \n",
    "    author, \n",
    "    commitdate, \n",
    "    commitdate::date - rownum::int as category\n",
    "    from (\n",
    "        select distinct \n",
    "            author, \n",
    "            date(datetime) as commitdate, \n",
    "            dense_rank() over (partition by author order by date(datetime)) as rownum\n",
    "            from app.ft_commits\n",
    "            where datetime > (current_date) - interval '6 month'\n",
    "            order by author, commitdate\n",
    "        ) a\n",
    "    )  b\n",
    "group by b.author, b.category \n",
    "order by streak_length desc \n",
    "limit 5\"\"\"\n",
    "\n",
    "query_to_dataframe(streakquery)"
   ]
  },
  {
   "cell_type": "markdown",
   "id": "72a23373",
   "metadata": {},
   "source": [
    "## Heatmap of commits by day of week and time of day"
   ]
  },
  {
   "cell_type": "code",
   "execution_count": 61,
   "id": "76eee6fe",
   "metadata": {
    "scrolled": false
   },
   "outputs": [
    {
     "data": {
      "text/plain": [
       "<Axes: xlabel='Time of Day', ylabel='Day of Week'>"
      ]
     },
     "execution_count": 61,
     "metadata": {},
     "output_type": "execute_result"
    },
    {
     "data": {
      "image/png": "[encoded data removed]",
      "text/plain": [
       "<Figure size 640x480 with 2 Axes>"
      ]
     },
     "metadata": {},
     "output_type": "display_data"
    }
   ],
   "source": [
    "sql = \"select datetime from app.ft_commits where datetime > (current_date - interval '6 month')\"\n",
    "data = query_to_dataframe(sql)\n",
    "data[\"Day of Week\"] = data[\"datetime\"].dt.day_name()\n",
    "\n",
    "data['Day of Week'] = data['Day of Week'].astype('category')\n",
    "\n",
    "data[\"Time of Day\"] = data[\"datetime\"].dt.hour.map(lambda x: \"00-03\" if x < 3 \n",
    "                                                   else \"03-06\" if x < 6 \n",
    "                                                   else \"06-09\" if x < 9\n",
    "                                                  else \"09-12\" if x < 12\n",
    "                                                  else \"12-15\" if x < 15\n",
    "                                                  else \"15-18\" if x < 18\n",
    "                                                  else \"18-21\" if x < 21\n",
    "                                                  else \"21-00\")\n",
    "pivoted = data.groupby([\"Day of Week\",\"Time of Day\"]).count().reset_index().pivot(index=\"Day of Week\", columns=\"Time of Day\", values=\"datetime\")\n",
    "\n",
    "# Currently the days of week are being sorted alphabetically, reorder them\n",
    "dayorder = [\"Monday\",\"Tuesday\",\"Wednesday\",\"Thursday\",\"Friday\",\"Saturday\",\"Sunday\"]\n",
    "pivoted.index = pivoted.index.reorder_categories(dayorder, ordered=True)\n",
    "pivoted.sort_index(axis =\"index\",inplace=True)\n",
    "\n",
    "seaborn.heatmap(pivoted, cmap=\"crest\")"
   ]
  },
  {
   "cell_type": "code",
   "execution_count": null,
   "id": "7725a6ee",
   "metadata": {},
   "outputs": [],
   "source": []
  }
 ],
 "metadata": {
  "kernelspec": {
   "display_name": "Python 3 (ipykernel)",
   "language": "python",
   "name": "python3"
  },
  "language_info": {
   "codemirror_mode": {
    "name": "ipython",
    "version": 3
   },
   "file_extension": ".py",
   "mimetype": "text/x-python",
   "name": "python",
   "nbconvert_exporter": "python",
   "pygments_lexer": "ipython3",
   "version": "3.9.16"
  }
 },
 "nbformat": 4,
 "nbformat_minor": 5
}
